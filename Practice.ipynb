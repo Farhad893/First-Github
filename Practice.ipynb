{
 "cells": [
  {
   "cell_type": "markdown",
   "id": "0c48d1f4",
   "metadata": {},
   "source": [
    "__I installed Jupyter notebook and want to start working with Phyton language__"
   ]
  },
  {
   "cell_type": "code",
   "execution_count": 2,
   "id": "3cad1d8d",
   "metadata": {},
   "outputs": [
    {
     "data": {
      "text/plain": [
       "7"
      ]
     },
     "execution_count": 2,
     "metadata": {},
     "output_type": "execute_result"
    }
   ],
   "source": [
    "A = 3\n",
    "4 + A"
   ]
  },
  {
   "cell_type": "markdown",
   "id": "c294cd26",
   "metadata": {},
   "source": [
    "_Phyton can use for mathematical operation!_"
   ]
  },
  {
   "cell_type": "markdown",
   "id": "1c55a6b0",
   "metadata": {},
   "source": [
    "Lets create a table here!"
   ]
  },
  {
   "cell_type": "markdown",
   "id": "1e7f3fc4",
   "metadata": {},
   "source": [
    "|temperature | pressure | Concentration |\n",
    "|-------|-------|--------|\n",
    "|25    | 60    | 1    |\n",
    "| 35  | 75   | 2 |\n",
    "|   45 | 100 | 3   |"
   ]
  },
  {
   "cell_type": "markdown",
   "id": "d9dd0c7e",
   "metadata": {},
   "source": [
    "You can download Jupyter notebook from [Anocanta](https://www.anaconda.com/). Here is Jupyter logo:\n",
    "![Jupiter logo](https://jupyter.org/assets/homepage/main-logo.svg)"
   ]
  },
  {
   "cell_type": "code",
   "execution_count": null,
   "id": "f1a7b45f",
   "metadata": {},
   "outputs": [],
   "source": []
  }
 ],
 "metadata": {
  "kernelspec": {
   "display_name": "Python 3 (ipykernel)",
   "language": "python",
   "name": "python3"
  },
  "language_info": {
   "codemirror_mode": {
    "name": "ipython",
    "version": 3
   },
   "file_extension": ".py",
   "mimetype": "text/x-python",
   "name": "python",
   "nbconvert_exporter": "python",
   "pygments_lexer": "ipython3",
   "version": "3.9.12"
  }
 },
 "nbformat": 4,
 "nbformat_minor": 5
}
